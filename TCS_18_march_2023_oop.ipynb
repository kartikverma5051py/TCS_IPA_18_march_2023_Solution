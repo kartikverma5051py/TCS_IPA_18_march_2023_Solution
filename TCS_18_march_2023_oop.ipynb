{
 "cells": [
  {
   "cell_type": "code",
   "execution_count": 1,
   "id": "94aa23d1",
   "metadata": {},
   "outputs": [],
   "source": [
    "class Vehicle:\n",
    "    def __init__(self,reg_number,vehicle_Type,status):\n",
    "        self.reg_number = reg_number\n",
    "        self.vehicle_Type = vehicle_Type\n",
    "        self.status = status\n",
    "    "
   ]
  },
  {
   "cell_type": "code",
   "execution_count": 2,
   "id": "cd192108",
   "metadata": {},
   "outputs": [],
   "source": [
    "class Showroom:\n",
    "    def count1(self,lst,lst1):\n",
    "        dic = {}\n",
    "        for i in lst1:\n",
    "            dic[i.lower()]=0\n",
    "        for i in lst:\n",
    "            if i.vehicle_Type in dic:\n",
    "                dic[i.vehicle_Type]+=1\n",
    "        return dic\n",
    "    "
   ]
  },
  {
   "cell_type": "code",
   "execution_count": 3,
   "id": "b152fb2b",
   "metadata": {},
   "outputs": [
    {
     "name": "stdout",
     "output_type": "stream",
     "text": [
      "3\n",
      "1\n",
      "Petrol\n",
      "Available\n",
      "2\n",
      "Electric\n",
      "Available\n",
      "3\n",
      "Diesel\n",
      "Not Available\n",
      "3\n",
      "Electric\n",
      "Petrol\n",
      "Diesel\n",
      "Electric : 1\n",
      "Petrol : 1\n",
      "Diesel : 1\n"
     ]
    }
   ],
   "source": [
    "if __name__==\"__main__\":\n",
    "    n = int(input())\n",
    "    lst = []\n",
    "    for _ in range(n):\n",
    "        reg_number = int(input())\n",
    "        vehicle_Type = input()\n",
    "        status = input()\n",
    "        lst.append(Vehicle(reg_number,vehicle_Type.lower(),status))\n",
    "    n1 = int(input())\n",
    "    lst1 =[]\n",
    "    for i in range(n1):\n",
    "        lst1.append(input())\n",
    "    obj = Showroom()\n",
    "    val = (obj.count1(lst,lst1))\n",
    "    for i ,j in val.items():\n",
    "        print(f\"{i.capitalize()} : {j}\")"
   ]
  },
  {
   "cell_type": "code",
   "execution_count": null,
   "id": "dc17c21d",
   "metadata": {},
   "outputs": [],
   "source": []
  }
 ],
 "metadata": {
  "kernelspec": {
   "display_name": "Python 3 (ipykernel)",
   "language": "python",
   "name": "python3"
  },
  "language_info": {
   "codemirror_mode": {
    "name": "ipython",
    "version": 3
   },
   "file_extension": ".py",
   "mimetype": "text/x-python",
   "name": "python",
   "nbconvert_exporter": "python",
   "pygments_lexer": "ipython3",
   "version": "3.9.6"
  }
 },
 "nbformat": 4,
 "nbformat_minor": 5
}
