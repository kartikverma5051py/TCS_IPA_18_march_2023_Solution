{
 "cells": [
  {
   "cell_type": "code",
   "execution_count": 7,
   "id": "b2b3fb18",
   "metadata": {},
   "outputs": [
    {
     "name": "stdout",
     "output_type": "stream",
     "text": [
      "2\n",
      "1\n",
      "Kartik\n",
      "25\n",
      "21\n",
      "2\n",
      "Pragya\n",
      "24\n",
      "21\n",
      "1:Kartik:119.05\n",
      "2:Pragya:114.29\n"
     ]
    }
   ],
   "source": [
    "def calculate_IQ(lst):\n",
    "    newlst = []\n",
    "    for i in lst:\n",
    "        IQ = ((i[-2])/ (i[-1])) * 100\n",
    "        newlst.append([i[0], i[1], (\"%.2f\" % IQ)])\n",
    "    return newlst\n",
    "if __name__ == \"__main__\":\n",
    "    n = int(input())\n",
    "    lst = []\n",
    "    for _ in range(n):\n",
    "        id = int(input())\n",
    "        name = input()\n",
    "        mAge = int(input())\n",
    "        pAge = int(input())\n",
    "        lst.append([id, name, mAge, pAge])\n",
    "\n",
    "    val = calculate_IQ(lst)\n",
    "    for j in val:\n",
    "        print(f\"{j[0]}:{j[1]}:{j[-1]}\")"
   ]
  },
  {
   "cell_type": "code",
   "execution_count": null,
   "id": "dd6b29a9",
   "metadata": {},
   "outputs": [],
   "source": []
  }
 ],
 "metadata": {
  "kernelspec": {
   "display_name": "Python 3 (ipykernel)",
   "language": "python",
   "name": "python3"
  },
  "language_info": {
   "codemirror_mode": {
    "name": "ipython",
    "version": 3
   },
   "file_extension": ".py",
   "mimetype": "text/x-python",
   "name": "python",
   "nbconvert_exporter": "python",
   "pygments_lexer": "ipython3",
   "version": "3.9.6"
  }
 },
 "nbformat": 4,
 "nbformat_minor": 5
}
